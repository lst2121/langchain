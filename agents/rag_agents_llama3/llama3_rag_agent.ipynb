{
 "cells": [
  {
   "cell_type": "markdown",
   "metadata": {},
   "source": [
    "### imports and llms and embeddings"
   ]
  },
  {
   "cell_type": "code",
   "execution_count": 1,
   "metadata": {},
   "outputs": [],
   "source": [
    "import os\n",
    "LANGCHAIN_API_KEY = os.getenv(key=\"LANGCHAIN_API_KEY\")\n",
    "LANGCHAIN_ENDPOINT = os.getenv(key=\"LANGCHAIN_ENDPOINT\")\n",
    "LANGCHAIN_TRACING_V2 = os.getenv(key=\"LANGCHAIN_TRACING_V2\")\n",
    "huggingfacehub_api_token = os.environ['HUGGINGFACEHUB_API_TOKEN']\n",
    "tavily_api_key = os.environ['TAVILY_API_KEY']\n"
   ]
  },
  {
   "cell_type": "code",
   "execution_count": 2,
   "metadata": {},
   "outputs": [],
   "source": [
    "from langchain_community.llms.ollama import Ollama\n",
    "from langchain_community.embeddings import OllamaEmbeddings\n",
    "from langchain_community.embeddings import HuggingFaceEmbeddings"
   ]
  },
  {
   "cell_type": "code",
   "execution_count": 3,
   "metadata": {},
   "outputs": [],
   "source": [
    "# local LLMs\n",
    "phi = Ollama(model=\"phi\", temperature=0, timeout=300,)\n",
    "phi3 = Ollama(model=\"phi3\", temperature=0, timeout=300,)\n",
    "llama3 = Ollama(model=\"llama3\", temperature=0, timeout=300,)"
   ]
  },
  {
   "cell_type": "code",
   "execution_count": 4,
   "metadata": {},
   "outputs": [],
   "source": [
    "# embeddings\n",
    "\n",
    "# all_minilm_embedding = OllamaEmbeddings(model=\"all-minilm\")\n",
    "# nomic_embed_embedding = OllamaEmbeddings(model=\"nomic-embed-text\")\n",
    "hf_embedding_all_mini_lm = HuggingFaceEmbeddings(\n",
    "    model_name=\"sentence-transformers/all-MiniLM-l6-v2\",\n",
    "    encode_kwargs={'normalize_embeddings':True}\n",
    ")\n",
    "\n",
    "# hf_embedding_nomic_embed = HuggingFaceEmbeddings(\n",
    "#     model_name=\"nomic-ai/nomic-embed-text-v1\",\n",
    "#     encode_kwargs={'normalize_embeddings':True, 'trust_remote_code':True},\n",
    "# )"
   ]
  },
  {
   "cell_type": "code",
   "execution_count": 5,
   "metadata": {},
   "outputs": [],
   "source": [
    "# embedding1 = all_minilm_embedding.embed_query(\"Who are you? why are you here?\")\n",
    "# embedding2 = nomic_embed_embedding.embed_query(\"Who are you? why are you here?\")\n",
    "embedding3 = hf_embedding_all_mini_lm.embed_query(\"Who are you? why are you here?\")"
   ]
  },
  {
   "cell_type": "code",
   "execution_count": 6,
   "metadata": {},
   "outputs": [],
   "source": [
    "# print(len(embedding1), embedding1)\n",
    "# print(len(embedding2), embedding2)"
   ]
  },
  {
   "cell_type": "code",
   "execution_count": 7,
   "metadata": {},
   "outputs": [
    {
     "name": "stdout",
     "output_type": "stream",
     "text": [
      "384 [-0.0180550254881382, 0.015209384262561798, 0.0850345566868782, 0.04594804719090462, 0.03869374096393585, -0.018558703362941742, 0.11793205887079239, 0.0026742033660411835, 0.07308730483055115, -0.016496803611516953, -0.021980833262205124, -0.11179500818252563, -0.02435881458222866, -0.020246079191565514, -0.05516700819134712, -0.008578590117394924, 0.03438204899430275, -0.13378950953483582, -0.10306984931230545, -0.04935657978057861, -0.03918986767530441, 0.041295312345027924, 0.02545206807553768, 0.06781544536352158, -0.06540757417678833, 0.03564165160059929, 0.04015931114554405, 0.051330532878637314, 0.024512117728590965, -0.10594386607408524, 0.008016596548259258, -0.016712743788957596, -0.029813334345817566, -0.0458478145301342, 0.020147519186139107, 0.01869823783636093, 0.09064888209104538, -0.05304146930575371, -0.006507969461381435, 0.037423014640808105, 0.008456151932477951, -0.008732609450817108, -0.00018708445713855326, -0.0098618408665061, 0.061645831912755966, -0.06502921879291534, -0.017303945496678352, 0.06115683168172836, 0.04745132848620415, -0.024916017428040504, -0.03006451576948166, 0.048702605068683624, -0.07402980327606201, 0.043500445783138275, 0.02461119368672371, -0.019283413887023926, 0.002213640371337533, 0.015420322306454182, 0.07149305939674377, 0.024369334802031517, 0.013297630473971367, -0.02589130960404873, 0.041953738778829575, 0.043679118156433105, -0.032296162098646164, 0.004813231527805328, 0.06648607552051544, -0.023259490728378296, -0.02502470090985298, -0.09281151741743088, -0.0014336310559883714, -0.028118330985307693, -0.0036181213799864054, 0.0034441950265318155, -0.02494879998266697, -0.12474849820137024, 0.03144443407654762, -0.07593844085931778, 0.11249765008687973, 0.053480084985494614, 0.14575423300266266, -0.011542429216206074, -0.0585361085832119, 0.013899966143071651, -0.08621948957443237, -0.03532938286662102, 0.05453348159790039, 0.03318837285041809, -0.015613479539752007, -0.02159780263900757, 0.015485950745642185, 0.03056574985384941, 0.0031251043546944857, 0.012751419097185135, -0.0712161436676979, 0.009345419704914093, 0.014622529037296772, 0.0034365816973149776, -0.08174970000982285, 0.1363455206155777, 0.02921394445002079, 0.0739242359995842, 0.018029509112238884, 0.05414091423153877, 0.020945196971297264, -0.00953765120357275, -0.006551634520292282, 0.06428663432598114, 0.012193207629024982, -0.06305007636547089, -0.06737446784973145, -0.020249444991350174, -0.12199730426073074, 0.006271794438362122, 0.07753025740385056, 0.01201952900737524, 0.05438290536403656, 0.03132021427154541, -0.007682200521230698, -0.036096908152103424, 0.004267884884029627, 0.039390843361616135, -0.09403076767921448, 0.08018995821475983, 0.05929875373840332, -0.034519266337156296, -0.10906355828046799, -8.8986479887262e-33, 0.03460481017827988, -0.02048872597515583, 0.10116390138864517, 0.041607026010751724, -0.008032599464058876, 0.05367021635174751, -0.021621456369757652, -0.02574598416686058, 0.022442184388637543, -0.07530038803815842, 0.028686856850981712, -0.04253276810050011, -0.08088795095682144, -0.045063018798828125, -0.02425137348473072, 0.07012581825256348, 0.008416138589382172, -0.01879594475030899, -0.03119819425046444, 0.12375839054584503, -0.021323028951883316, -0.013710466213524342, -0.024389831349253654, 0.05071698874235153, 0.0038753454573452473, -0.0845276489853859, 0.017642829567193985, -0.019460270181298256, -0.02737201564013958, -0.026923079043626785, -0.015171344392001629, 0.018587686121463776, 0.04261303320527077, -0.012815224938094616, -0.06826119124889374, -0.06136180832982063, -0.007939696311950684, -0.09147945046424866, -0.0258429404348135, -0.045471470803022385, 0.001011728192679584, 0.01595047302544117, 0.05112869292497635, -0.0021555207204073668, -0.0019860058091580868, -0.011439015157520771, 0.02589597925543785, 0.06338724493980408, -0.0750691220164299, 0.012781525030732155, -0.081446073949337, 0.06385363638401031, 0.003866529557853937, 0.04441605508327484, 0.009503421373665333, -0.08694714307785034, -0.08674438297748566, 0.022144662216305733, -0.0566677525639534, 0.03516891598701477, -0.024768568575382233, 0.09176366776227951, -0.016414014622569084, 0.014501091092824936, -0.04537557065486908, 0.03984764218330383, 0.031457241624593735, -0.03581567481160164, 0.08428381383419037, 0.01958388276398182, 0.032116688787937164, -0.044119611382484436, -0.03357120230793953, 0.07886124402284622, 0.018189160153269768, -0.013085978105664253, -0.02986164204776287, 0.06776614487171173, -0.028625283390283585, 0.004834194667637348, 0.0412769615650177, 0.041321489959955215, -0.008325153961777687, -0.024161918088793755, 0.028630193322896957, -0.04912079870700836, 0.004269673954695463, -0.07769011706113815, -0.03963823989033699, 0.02807106450200081, 0.019472798332571983, -0.00421100901439786, 0.10825429856777191, -0.04735773056745529, -0.12678083777427673, 4.981840567700859e-33, 0.10354606062173843, -0.066850446164608, 0.03955959156155586, -0.014775676652789116, 0.041695885360240936, -0.07200969755649567, -0.012340543791651726, -0.009536297991871834, -0.03816865012049675, 0.04677097871899605, 0.025291336700320244, -0.008526938036084175, 0.03614430129528046, 0.00798711832612753, 0.0033031252678483725, 0.010306721553206444, 0.033033985644578934, -0.020580876618623734, -0.03742234781384468, -0.08241312205791473, -0.046766575425863266, 0.14117079973220825, -0.09160466492176056, 0.06891842186450958, 0.024127565324306488, 0.02199341356754303, 0.10594968497753143, 0.02899145521223545, 0.02448398992419243, 0.04536285623908043, 0.0011194611433893442, 0.029140552505850792, -0.09450390934944153, -0.001441960223019123, 0.00175213604234159, 0.08499280363321304, 0.010323263704776764, 0.02057437226176262, -0.0007144250557757914, -0.07530868798494339, -0.016598159447312355, 0.0588313527405262, -0.0006691691232845187, 0.0006109366659075022, 0.0013847644440829754, 0.000257664592936635, 0.05842946842312813, 0.01387017872184515, -0.0010602258844301105, 0.053330715745687485, -0.0422527901828289, -0.03261342644691467, 0.10300928354263306, -0.048206452280282974, 0.003134119091555476, 0.03332633897662163, -0.04370546340942383, -0.050126947462558746, 0.07990216463804245, 0.048648156225681305, 0.0403268001973629, 0.053938526660203934, -0.07918286323547363, 0.029236525297164917, 0.028654759749770164, 0.004630924668163061, -0.01568746380507946, -0.022053154185414314, -0.0824609100818634, -0.10759542882442474, 0.006735169794410467, -0.08260009437799454, -0.025029081851243973, -0.039789829403162, -0.014903737232089043, 0.0939667820930481, -0.031437948346138, -0.0009557310841046274, -0.0657854825258255, -0.0588332824409008, -0.02467743493616581, -0.03048946149647236, 0.03092048317193985, 0.05874280631542206, -0.02430685982108116, -0.012404004111886024, 0.028726669028401375, 0.07332640886306763, 0.09219866245985031, -0.023755328729748726, 0.06745494157075882, -0.013923071324825287, -0.07282011955976486, -0.013026333414018154, -0.04411422461271286, -2.1868189037377306e-08, -0.011842271313071251, 0.023589804768562317, -0.06475137919187546, 0.028636028990149498, 0.038833197206258774, 0.03108379617333412, -0.04356711357831955, -0.03554369881749153, -0.04129824414849281, -0.020876361057162285, -0.045058056712150574, -0.024597104638814926, -0.015234733931720257, -0.07668665051460266, 0.07718968391418457, -0.019588977098464966, -0.03573498874902725, 0.024220045655965805, 0.014120866544544697, -0.07309500128030777, 0.048948269337415695, 0.0015140188625082374, -0.06753446161746979, 0.031399112194776535, -0.03148480877280235, 0.01958724856376648, 0.05412092059850693, 0.026399120688438416, 0.008783770725131035, 0.04943320155143738, 0.004078498110175133, 0.11324664205312729, -0.08246197551488876, 0.04140754044055939, -0.03099413774907589, -0.07828060537576675, 0.03543306142091751, 0.005192534998059273, -0.04224482551217079, 0.01235682237893343, -0.045752789825201035, 0.07059130072593689, 0.060442641377449036, -0.019488131627440453, 0.040453311055898666, -0.01417524367570877, 0.05604897066950798, -0.044849004596471786, 0.009825737215578556, 0.005159393418580294, -0.09201206266880035, -0.08850251883268356, 0.07923346757888794, 0.09049059450626373, 0.06250079721212387, 0.021340876817703247, -0.06881335377693176, 0.0688488706946373, 0.0013101595686748624, 0.014007274061441422, 0.0790824368596077, 0.036848533898591995, -0.01772400178015232, -0.03699753060936928]\n"
     ]
    }
   ],
   "source": [
    "print(len(embedding3), embedding3)"
   ]
  },
  {
   "cell_type": "code",
   "execution_count": 8,
   "metadata": {},
   "outputs": [],
   "source": [
    "from langchain.text_splitter import RecursiveCharacterTextSplitter\n",
    "from langchain_community.document_loaders import WebBaseLoader\n",
    "from langchain_community.vectorstores import Chroma"
   ]
  },
  {
   "cell_type": "markdown",
   "metadata": {},
   "source": [
    "### Create Index"
   ]
  },
  {
   "cell_type": "code",
   "execution_count": 9,
   "metadata": {},
   "outputs": [],
   "source": [
    "#  load docs\n",
    "\n",
    "urls = [\n",
    "    \"https://lilianweng.github.io/posts/2023-06-23-agent/\",\n",
    "    \"https://lilianweng.github.io/posts/2023-03-15-prompt-engineering/\",\n",
    "    \"https://lilianweng.github.io/posts/2023-10-25-adv-attack-llm/\",\n",
    "]\n",
    "\n",
    "docs = [WebBaseLoader(url).load() for url in urls]\n",
    "docs_list = [item for sublist in docs for item in sublist]\n",
    "\n",
    "text_splitter = RecursiveCharacterTextSplitter.from_tiktoken_encoder(\n",
    "    chunk_size=250, chunk_overlap=0\n",
    ")\n",
    "doc_splits = text_splitter.split_documents(docs_list)\n"
   ]
  },
  {
   "cell_type": "code",
   "execution_count": 10,
   "metadata": {},
   "outputs": [],
   "source": [
    "\n",
    "#  add to vectorDB\n",
    "vectorstore = Chroma.from_documents(\n",
    "    documents=doc_splits,\n",
    "    collection_name=\"rag-chroma\",\n",
    "    embedding=hf_embedding_all_mini_lm\n",
    ")\n",
    "\n",
    "# create retriver\n",
    "retriever = vectorstore.as_retriever()"
   ]
  },
  {
   "cell_type": "code",
   "execution_count": 11,
   "metadata": {},
   "outputs": [
    {
     "data": {
      "text/plain": [
       "[Document(page_content='They also discussed the risks, especially with illicit drugs and bioweapons. They developed a test set containing a list of known chemical weapon agents and asked the agent to synthesize them. 4 out of 11 requests (36%) were accepted to obtain a synthesis solution and the agent attempted to consult documentation to execute the procedure. 7 out of 11 were rejected and among these 7 rejected cases, 5 happened after a Web search while 2 were rejected based on prompt only.\\nGenerative Agents Simulation#\\nGenerative Agents (Park, et al. 2023) is super fun experiment where 25 virtual characters, each controlled by a LLM-powered agent, are living and interacting in a sandbox environment, inspired by The Sims. Generative agents create believable simulacra of human behavior for interactive applications.\\nThe design of generative agents combines LLM with memory, planning and reflection mechanisms to enable agents to behave conditioned on past experience, as well as to interact with other agents.\\n\\nMemory stream: is a long-term memory module (external database) that records a comprehensive list of agents’ experience in natural language.', metadata={'description': 'Building agents with LLM (large language model) as its core controller is a cool concept. Several proof-of-concepts demos, such as AutoGPT, GPT-Engineer and BabyAGI, serve as inspiring examples. The potentiality of LLM extends beyond generating well-written copies, stories, essays and programs; it can be framed as a powerful general problem solver.\\nAgent System Overview In a LLM-powered autonomous agent system, LLM functions as the agent’s brain, complemented by several key components:', 'language': 'en', 'source': 'https://lilianweng.github.io/posts/2023-06-23-agent/', 'title': \"LLM Powered Autonomous Agents | Lil'Log\"}),\n",
       " Document(page_content='Building agents with LLM (large language model) as its core controller is a cool concept. Several proof-of-concepts demos, such as AutoGPT, GPT-Engineer and BabyAGI, serve as inspiring examples. The potentiality of LLM extends beyond generating well-written copies, stories, essays and programs; it can be framed as a powerful general problem solver.\\nAgent System Overview#\\nIn a LLM-powered autonomous agent system, LLM functions as the agent’s brain, complemented by several key components:\\n\\nPlanning\\n\\nSubgoal and decomposition: The agent breaks down large tasks into smaller, manageable subgoals, enabling efficient handling of complex tasks.\\nReflection and refinement: The agent can do self-criticism and self-reflection over past actions, learn from mistakes and refine them for future steps, thereby improving the quality of final results.\\n\\n\\nMemory', metadata={'description': 'Building agents with LLM (large language model) as its core controller is a cool concept. Several proof-of-concepts demos, such as AutoGPT, GPT-Engineer and BabyAGI, serve as inspiring examples. The potentiality of LLM extends beyond generating well-written copies, stories, essays and programs; it can be framed as a powerful general problem solver.\\nAgent System Overview In a LLM-powered autonomous agent system, LLM functions as the agent’s brain, complemented by several key components:', 'language': 'en', 'source': 'https://lilianweng.github.io/posts/2023-06-23-agent/', 'title': \"LLM Powered Autonomous Agents | Lil'Log\"}),\n",
       " Document(page_content=\"LLM Powered Autonomous Agents | Lil'Log\\n\\n\\n\\n\\n\\n\\n\\n\\n\\n\\n\\n\\n\\n\\n\\n\\n\\n\\n\\n\\n\\n\\n\\n\\n\\n\\n\\n\\n\\n\\n\\n\\n\\n\\n\\n\\n\\n\\n\\nLil'Log\\n\\n\\n\\n\\n\\n\\n\\n\\n\\n\\n\\n\\n\\n\\n\\n\\n\\n\\n\\n\\n\\n\\nPosts\\n\\n\\n\\n\\nArchive\\n\\n\\n\\n\\nSearch\\n\\n\\n\\n\\nTags\\n\\n\\n\\n\\nFAQ\\n\\n\\n\\n\\nemojisearch.app\\n\\n\\n\\n\\n\\n\\n\\n\\n\\n      LLM Powered Autonomous Agents\\n    \\nDate: June 23, 2023  |  Estimated Reading Time: 31 min  |  Author: Lilian Weng\\n\\n\\n \\n\\n\\nTable of Contents\\n\\n\\n\\nAgent System Overview\\n\\nComponent One: Planning\\n\\nTask Decomposition\\n\\nSelf-Reflection\\n\\n\\nComponent Two: Memory\\n\\nTypes of Memory\\n\\nMaximum Inner Product Search (MIPS)\\n\\n\\nComponent Three: Tool Use\\n\\nCase Studies\\n\\nScientific Discovery Agent\\n\\nGenerative Agents Simulation\\n\\nProof-of-Concept Examples\\n\\n\\nChallenges\\n\\nCitation\\n\\nReferences\", metadata={'description': 'Building agents with LLM (large language model) as its core controller is a cool concept. Several proof-of-concepts demos, such as AutoGPT, GPT-Engineer and BabyAGI, serve as inspiring examples. The potentiality of LLM extends beyond generating well-written copies, stories, essays and programs; it can be framed as a powerful general problem solver.\\nAgent System Overview In a LLM-powered autonomous agent system, LLM functions as the agent’s brain, complemented by several key components:', 'language': 'en', 'source': 'https://lilianweng.github.io/posts/2023-06-23-agent/', 'title': \"LLM Powered Autonomous Agents | Lil'Log\"}),\n",
       " Document(page_content='Each element is an observation, an event directly provided by the agent.\\n- Inter-agent communication can trigger new natural language statements.\\n\\n\\nRetrieval model: surfaces the context to inform the agent’s behavior, according to relevance, recency and importance.\\n\\nRecency: recent events have higher scores\\nImportance: distinguish mundane from core memories. Ask LM directly.\\nRelevance: based on how related it is to the current situation / query.\\n\\n\\nReflection mechanism: synthesizes memories into higher level inferences over time and guides the agent’s future behavior. They are higher-level summaries of past events (<- note that this is a bit different from self-reflection above)\\n\\nPrompt LM with 100 most recent observations and to generate 3 most salient high-level questions given a set of observations/statements. Then ask LM to answer those questions.\\n\\n\\nPlanning & Reacting: translate the reflections and the environment information into actions', metadata={'description': 'Building agents with LLM (large language model) as its core controller is a cool concept. Several proof-of-concepts demos, such as AutoGPT, GPT-Engineer and BabyAGI, serve as inspiring examples. The potentiality of LLM extends beyond generating well-written copies, stories, essays and programs; it can be framed as a powerful general problem solver.\\nAgent System Overview In a LLM-powered autonomous agent system, LLM functions as the agent’s brain, complemented by several key components:', 'language': 'en', 'source': 'https://lilianweng.github.io/posts/2023-06-23-agent/', 'title': \"LLM Powered Autonomous Agents | Lil'Log\"})]"
      ]
     },
     "execution_count": 11,
     "metadata": {},
     "output_type": "execute_result"
    }
   ],
   "source": [
    "retriever.invoke(\"what is agent memory?\")"
   ]
  },
  {
   "cell_type": "markdown",
   "metadata": {},
   "source": [
    "### Retrieval Grader"
   ]
  },
  {
   "cell_type": "code",
   "execution_count": 45,
   "metadata": {},
   "outputs": [],
   "source": [
    "from langchain.prompts import PromptTemplate\n",
    "from langchain_community.chat_models import ChatOllama\n",
    "from langchain_core.output_parsers import JsonOutputParser\n",
    "from langchain_groq import ChatGroq"
   ]
  },
  {
   "cell_type": "code",
   "execution_count": 55,
   "metadata": {},
   "outputs": [],
   "source": [
    "\n",
    "#  LLM\n",
    "# llm = ChatOllama(model=\"llama3\", format='json', temperature=0, timeout=180)\n",
    "llm = ChatGroq(model='Llama3-8b-8192', timeout=150,temperature=0)\n",
    "\n",
    "prompt = PromptTemplate(\n",
    "    template=\"\"\"<|begin_of_text|><|start_header_id|>system<|end_header_id|> You are a grader assessing relevance \n",
    "    of a retrieved document to a user question. If the document contains keywords related to the user question, \n",
    "    grade it as relevant. It does not need to be a stringent test. The goal is to filter out erroneous retrievals. \\n\n",
    "    Give a binary score 'yes' or 'no' score to indicate whether the document is relevant to the question. \\n\n",
    "    Provide the binary score as a JSON with a single key 'score' and no premable or explanation.\n",
    "     <|eot_id|><|start_header_id|>user<|end_header_id|>\n",
    "    Here is the retrieved document: \\n\\n {document} \\n\\n\n",
    "    Here is the user question: {question} \\n <|eot_id|><|start_header_id|>assistant<|end_header_id|>\n",
    "    \"\"\",\n",
    "    input_variables=[\"question\", \"document\"],\n",
    ")"
   ]
  },
  {
   "cell_type": "code",
   "execution_count": 56,
   "metadata": {},
   "outputs": [],
   "source": [
    "retrieval_grader = prompt | llm | JsonOutputParser()"
   ]
  },
  {
   "cell_type": "code",
   "execution_count": 57,
   "metadata": {},
   "outputs": [],
   "source": [
    "question = \"agent memory\"\n",
    "docs = retriever.invoke(question)\n",
    "doc_txt = docs[1].page_content"
   ]
  },
  {
   "cell_type": "code",
   "execution_count": 58,
   "metadata": {},
   "outputs": [
    {
     "name": "stdout",
     "output_type": "stream",
     "text": [
      "They also discussed the risks, especially with illicit drugs and bioweapons. They developed a test set containing a list of known chemical weapon agents and asked the agent to synthesize them. 4 out of 11 requests (36%) were accepted to obtain a synthesis solution and the agent attempted to consult documentation to execute the procedure. 7 out of 11 were rejected and among these 7 rejected cases, 5 happened after a Web search while 2 were rejected based on prompt only.\n",
      "Generative Agents Simulation#\n",
      "Generative Agents (Park, et al. 2023) is super fun experiment where 25 virtual characters, each controlled by a LLM-powered agent, are living and interacting in a sandbox environment, inspired by The Sims. Generative agents create believable simulacra of human behavior for interactive applications.\n",
      "The design of generative agents combines LLM with memory, planning and reflection mechanisms to enable agents to behave conditioned on past experience, as well as to interact with other agents.\n",
      "\n",
      "Memory stream: is a long-term memory module (external database) that records a comprehensive list of agents’ experience in natural language.\n"
     ]
    }
   ],
   "source": [
    "print(doc_txt)"
   ]
  },
  {
   "cell_type": "code",
   "execution_count": 59,
   "metadata": {},
   "outputs": [
    {
     "name": "stdout",
     "output_type": "stream",
     "text": [
      "{'score': 'yes'}\n"
     ]
    }
   ],
   "source": [
    "print(retrieval_grader.invoke({\"question\": question, \"document\": doc_txt}))"
   ]
  },
  {
   "cell_type": "code",
   "execution_count": 60,
   "metadata": {},
   "outputs": [],
   "source": [
    "question = \"prompt-engineering\"\n",
    "docs = retriever.invoke(question)\n",
    "doc_txt = docs[0].page_content"
   ]
  },
  {
   "cell_type": "code",
   "execution_count": 61,
   "metadata": {},
   "outputs": [
    {
     "data": {
      "text/plain": [
       "'Prompt Engineering, also known as In-Context Prompting, refers to methods for how to communicate with LLM to steer its behavior for desired outcomes without updating the model weights. It is an empirical science and the effect of prompt engineering methods can vary a lot among models, thus requiring heavy experimentation and heuristics.\\nThis post only focuses on prompt engineering for autoregressive language models, so nothing with Cloze tests, image generation or multimodality models. At its core, the goal of prompt engineering is about alignment and model steerability. Check my previous post on controllable text generation.\\n[My personal spicy take] In my opinion, some prompt engineering papers are not worthy 8 pages long, since those tricks can be explained in one or a few sentences and the rest is all about benchmarking. An easy-to-use and shared benchmark infrastructure should be more beneficial to the community. Iterative prompting or external tool use would not be trivial to set up. Also non-trivial to align the whole research community to adopt it.\\nBasic Prompting#'"
      ]
     },
     "execution_count": 61,
     "metadata": {},
     "output_type": "execute_result"
    }
   ],
   "source": [
    "doc_txt"
   ]
  },
  {
   "cell_type": "code",
   "execution_count": 62,
   "metadata": {},
   "outputs": [
    {
     "name": "stdout",
     "output_type": "stream",
     "text": [
      "{'score': 'yes'}\n"
     ]
    }
   ],
   "source": [
    "print(retrieval_grader.invoke({\"question\": question, \"document\": doc_txt}))"
   ]
  },
  {
   "cell_type": "markdown",
   "metadata": {},
   "source": [
    "### Generate"
   ]
  },
  {
   "cell_type": "code",
   "execution_count": 63,
   "metadata": {},
   "outputs": [],
   "source": [
    "from langchain.prompts import PromptTemplate\n",
    "from langchain import hub\n",
    "from langchain_core.output_parsers import StrOutputParser\n",
    "\n",
    "#  LLM\n",
    "# llm = ChatOllama(model=\"llama3\", temperature=0, timeout=180)\n",
    "llm = ChatGroq(model='Llama3-8b-8192', timeout=150,temperature=0)\n",
    "# prompt \n",
    "prompt = PromptTemplate(\n",
    "    template=\"\"\"<|begin_of_text|><|start_header_id|>system<|end_header_id|> You are an assistant for question-answering tasks. \n",
    "    Use the following pieces of retrieved context to answer the question. If you don't know the answer, just say that you don't know. \n",
    "    Use three sentences maximum and keep the answer concise <|eot_id|><|start_header_id|>user<|end_header_id|>\n",
    "    Question: {question} \n",
    "    Context: {context} \n",
    "    Answer: <|eot_id|><|start_header_id|>assistant<|end_header_id|>\"\"\",\n",
    "    input_variables=[\"question\", \"document\"],\n",
    ")\n",
    "\n",
    "# Post-processing\n",
    "def format_docs(docs):\n",
    "    return \"\\n\\n\".join(doc.page_content for doc in docs)"
   ]
  },
  {
   "cell_type": "code",
   "execution_count": 64,
   "metadata": {},
   "outputs": [],
   "source": [
    "# Chain\n",
    "rag_chain = prompt | llm | StrOutputParser()"
   ]
  },
  {
   "cell_type": "code",
   "execution_count": 65,
   "metadata": {},
   "outputs": [],
   "source": [
    "# run\n",
    "question = \"prompt-engineering\"\n",
    "docs = retriever.invoke(question)"
   ]
  },
  {
   "cell_type": "code",
   "execution_count": 66,
   "metadata": {},
   "outputs": [
    {
     "name": "stdout",
     "output_type": "stream",
     "text": [
      "Prompt engineering is the process of designing and optimizing prompts to communicate with large language models (LLMs) to achieve desired outcomes without updating the model weights.\n"
     ]
    }
   ],
   "source": [
    "generation = rag_chain.invoke({\"context\": docs, \"question\": question})\n",
    "print(generation)"
   ]
  },
  {
   "cell_type": "code",
   "execution_count": 67,
   "metadata": {},
   "outputs": [
    {
     "name": "stdout",
     "output_type": "stream",
     "text": [
      "The memory component of an LLM-powered autonomous agent system is designed to record a comprehensive list of agents' experiences in natural language, allowing the agent to learn from its past actions and refine its behavior over time.\n"
     ]
    }
   ],
   "source": [
    "question = \"agent memory\"\n",
    "docs = retriever.invoke(question)\n",
    "generation = rag_chain.invoke({\"context\": docs, \"question\": question})\n",
    "print(generation)"
   ]
  },
  {
   "cell_type": "code",
   "execution_count": 68,
   "metadata": {},
   "outputs": [],
   "source": [
    "# llm = ChatOllama(model=\"llama3\", format='json', temperature=0, timeout=180)\n",
    "llm = ChatGroq(model='Llama3-8b-8192', timeout=150,temperature=0)\n",
    "\n",
    "# Prompt\n",
    "prompt = PromptTemplate(\n",
    "    template=\"\"\" <|begin_of_text|><|start_header_id|>system<|end_header_id|> You are a grader assessing whether \n",
    "    an answer is grounded in / supported by a set of facts. Give a binary 'yes' or 'no' score to indicate \n",
    "    whether the answer is grounded in / supported by a set of facts. Provide the binary score as a JSON with a \n",
    "    single key 'score' and no preamble or explanation. <|eot_id|><|start_header_id|>user<|end_header_id|>\n",
    "    Here are the facts:\n",
    "    \\n ------- \\n\n",
    "    {documents} \n",
    "    \\n ------- \\n\n",
    "    Here is the answer: {generation}  <|eot_id|><|start_header_id|>assistant<|end_header_id|>\"\"\",\n",
    "    input_variables=[\"generation\", \"documents\"],\n",
    ")"
   ]
  },
  {
   "cell_type": "code",
   "execution_count": 69,
   "metadata": {},
   "outputs": [],
   "source": [
    "hallucination_grader = prompt | llm | JsonOutputParser()"
   ]
  },
  {
   "cell_type": "code",
   "execution_count": 70,
   "metadata": {},
   "outputs": [
    {
     "data": {
      "text/plain": [
       "{'score': 'yes'}"
      ]
     },
     "execution_count": 70,
     "metadata": {},
     "output_type": "execute_result"
    }
   ],
   "source": [
    "hallucination_grader.invoke({\"documents\": docs, \"generation\": generation})"
   ]
  },
  {
   "cell_type": "markdown",
   "metadata": {},
   "source": [
    "### Answer Grader"
   ]
  },
  {
   "cell_type": "code",
   "execution_count": 29,
   "metadata": {},
   "outputs": [],
   "source": [
    "# llm = ChatOllama(model=\"llama3\", format='json', temperature=0, timeout=180)\n",
    "llm = ChatGroq(model='Llama3-8b-8192', timeout=150,temperature=0)\n",
    "# Prompt\n",
    "prompt = PromptTemplate(\n",
    "    template=\"\"\"<|begin_of_text|><|start_header_id|>system<|end_header_id|> You are a grader assessing whether an \n",
    "    answer is useful to resolve a question. Give a binary score 'yes' or 'no' to indicate whether the answer is \n",
    "    useful to resolve a question. Provide the binary score as a JSON with a single key 'score' and no preamble or explanation.\n",
    "     <|eot_id|><|start_header_id|>user<|end_header_id|> Here is the answer:\n",
    "    \\n ------- \\n\n",
    "    {generation} \n",
    "    \\n ------- \\n\n",
    "    Here is the question: {question} <|eot_id|><|start_header_id|>assistant<|end_header_id|>\"\"\",\n",
    "    input_variables=[\"generation\", \"question\"],\n",
    ")\n"
   ]
  },
  {
   "cell_type": "code",
   "execution_count": 30,
   "metadata": {},
   "outputs": [],
   "source": [
    "answer_grader = prompt | llm | JsonOutputParser()"
   ]
  },
  {
   "cell_type": "code",
   "execution_count": 31,
   "metadata": {},
   "outputs": [
    {
     "data": {
      "text/plain": [
       "{'score': 'yes'}"
      ]
     },
     "execution_count": 31,
     "metadata": {},
     "output_type": "execute_result"
    }
   ],
   "source": [
    "answer_grader.invoke({\"question\": question, \"generation\": generation})"
   ]
  },
  {
   "cell_type": "markdown",
   "metadata": {},
   "source": [
    "### Router"
   ]
  },
  {
   "cell_type": "code",
   "execution_count": 32,
   "metadata": {},
   "outputs": [],
   "source": [
    "prompt = PromptTemplate(\n",
    "    template=\"\"\"<|begin_of_text|><|start_header_id|>system<|end_header_id|> You are an expert at routing a \n",
    "    user question to a vectorstore or web search. Use the vectorstore for questions on LLM  agents, \n",
    "    prompt engineering, and adversarial attacks. You do not need to be stringent with the keywords \n",
    "    in the question related to these topics. Otherwise, use web-search. Give a binary choice 'web_search' \n",
    "    or 'vectorstore' based on the question. Return the a JSON with a single key 'datasource' and \n",
    "    no premable or explanation. Question to route: {question} <|eot_id|><|start_header_id|>assistant<|end_header_id|>\"\"\",\n",
    "    input_variables=[\"question\"],\n",
    ")"
   ]
  },
  {
   "cell_type": "code",
   "execution_count": 33,
   "metadata": {},
   "outputs": [],
   "source": [
    "question_router = prompt | llm | JsonOutputParser()"
   ]
  },
  {
   "cell_type": "code",
   "execution_count": 34,
   "metadata": {},
   "outputs": [
    {
     "name": "stderr",
     "output_type": "stream",
     "text": [
      "d:\\Gen_AI_Tutorials\\langchain\\venv\\lib\\site-packages\\langchain_core\\_api\\deprecation.py:119: LangChainDeprecationWarning: The method `BaseRetriever.get_relevant_documents` was deprecated in langchain-core 0.1.46 and will be removed in 0.3.0. Use invoke instead.\n",
      "  warn_deprecated(\n"
     ]
    },
    {
     "name": "stdout",
     "output_type": "stream",
     "text": [
      "{'datasource': 'vectorstore'}\n"
     ]
    }
   ],
   "source": [
    "question = \"llm agent memory\"\n",
    "docs = retriever.get_relevant_documents(question)\n",
    "doc_txt = docs[1].page_content\n",
    "print(question_router.invoke({\"question\": question}))"
   ]
  },
  {
   "cell_type": "code",
   "execution_count": 35,
   "metadata": {},
   "outputs": [
    {
     "name": "stdout",
     "output_type": "stream",
     "text": [
      "{'datasource': 'web_search'}\n"
     ]
    }
   ],
   "source": [
    "question = \"fda approval rate\"\n",
    "docs = retriever.get_relevant_documents(question)\n",
    "doc_txt = docs[1].page_content\n",
    "print(question_router.invoke({\"question\": question}))"
   ]
  },
  {
   "cell_type": "code",
   "execution_count": 36,
   "metadata": {},
   "outputs": [
    {
     "name": "stdout",
     "output_type": "stream",
     "text": [
      "{'datasource': 'vectorstore'}\n"
     ]
    }
   ],
   "source": [
    "question = \"Basic Prompting\"\n",
    "docs = retriever.get_relevant_documents(question)\n",
    "doc_txt = docs[1].page_content\n",
    "print(question_router.invoke({\"question\": question}))"
   ]
  },
  {
   "cell_type": "markdown",
   "metadata": {},
   "source": [
    "### Search"
   ]
  },
  {
   "cell_type": "code",
   "execution_count": 37,
   "metadata": {},
   "outputs": [],
   "source": [
    "from langchain_community.tools.tavily_search import  TavilySearchResults\n",
    "\n",
    "web_search_tool = TavilySearchResults(k=3)"
   ]
  },
  {
   "cell_type": "code",
   "execution_count": 38,
   "metadata": {},
   "outputs": [
    {
     "data": {
      "text/plain": [
       "[{'url': 'https://www.nature.com/articles/d41573-022-00001-9',\n",
       "  'content': \"2021 FDA approvals. The FDA approved 50 novel drugs in 2021, including the first KRAS inhibitor for cancer and the first anti-amyloid antibody for Alzheimer's disease. Credit S.Harris/Springer ...\"},\n",
       " {'url': 'https://www.fda.gov/drugs/how-drugs-are-developed-and-approved/drug-and-biologic-approval-and-ind-activity-reports',\n",
       "  'content': 'These reports contain information on new drug application (NDA), biologic license application (BLA), and abbreviated new drug application (ANDA) approvals. The list also includes a link to ...'},\n",
       " {'url': 'https://journals.lww.com/jfmpc/Fulltext/2020/09010/Trends_in_FDA_drug_approvals_over_last_2_decades_.20.aspx',\n",
       "  'content': 'FDA approval of a new drug is extremely challenging. Rate of drug approval is much higher than previous years. We also observed that medical needs and disease pattern are usually not changing drastically but knowledge from basic research and unmet medical needs are likely to provide market for pharmaceuticals.'},\n",
       " {'url': 'https://www.ncbi.nlm.nih.gov/pmc/articles/PMC7014862/',\n",
       "  'content': 'Table 3\\nList of anticancer agents approved in last 2 decades\\n# P - Priority review, S - Standard review, O - Orphan designation, F- Fast track, A- Accelerated review, B- Break through review\\nTable 4\\nList of biologics approved in last 2 decades\\n# P - Priority review, S - Standard review, O - Orphan designation, F- Fast track, A- Accelerated review, B- Break through review\\nTable 5\\nList of antiviral agents approved in last 2 decades\\n# P - Priority review, S - Standard review, O - Orphan designation, F- Fast track, A- Accelerated review, B- Break through review\\nThe driving force to this increase in new drug approvals can be attributed to a number of factors:\\n In March 2017, the US FDA has also introduced the new Regenerative Medicine Advanced Therapy (RMAT) which is a new program to facilitate and expedite development and review of regenerative medicines.[16]\\nTable 6\\nExpedited drug approval methods\\nDrug designation summary overview from 2011 to 2017\\nDiscussion\\nCDER and pharmaceutical industry work together in bringing innovation in research and development of new drugs. Trend in anticancer drug approval over a period of years\\nVarious categories in drug approval process are as follows:\\nFirst-in-class\\nA drug with, first of its kind mechanism of action and totally different from already available set of drugs for a medical condition belongs to first in Class drug approval process. First in Class and Orphan Approvals\\nIn recent years, there has also been a shift in the types of new drugs that are submitted to the FDA for approval: CDER had 20 first in class approvals (agents with a unique mechanism of action) in 2012, 16 in 2015, and 15 in 2017. We observed that limited numbers of drugs are being approved for lifestyle disorders like diabetes, obesity, cardiovascular disorders, etc., Presently, more number of anticancer drugs and biologics are being approved compared to drugs required for lifestyle diseases, antibiotics, respiratory disorders, etc.\\nTable 2\\nList of some landmark drugs between 2011 and 2018\\n# P - Priority review, S - Standard review, O - Orphan designation, F- Fast track\\nIs it discovery-driven or market-driven approach??'},\n",
       " {'url': 'https://www.nature.com/articles/d41573-024-00001-x',\n",
       "  'content': 'Imetelstat\\nGeron\\nTelomerase inhibitor\\nTransfusion-dependent anaemia with MDS\\nJune\\nTarlatamaba\\nAmgen\\nDLL3 × CD3 T-cell engager antibody\\nSCLC\\nJune\\nFidanacogene elaparvoveca\\nPfizer/Spark\\nAAV-based gene therapy with factor IX transgene\\nHemophilia B\\nQ2\\nBentracimaba\\nLaboratoires SERB\\nTicagrelor-neutralizing antibody\\nDrug toxicity\\n1H\\nCrovalimaba\\nRoche\\nC5-targeted mAb\\nPNH\\nJuly\\nDanicopana\\nAstraZeneca/Alexion\\nFactor D inhibitor\\nPNH\\nJuly\\nMidomafetaminea\\nMAPS\\nMDMA\\nPTSD\\nAugust\\nXanomeline plus trospium\\nKaruna/BMS\\nMuscarinic receptor modulators\\nSchizophrenia\\nSeptember\\nAcoramidis\\nBridgeBio\\nTTR stabilizer\\nTTR amyloidosis\\nDecember\\nMarstacimab\\nPfizer\\nTFPI-targeted mAb\\nHaemophilia A and B\\nQ4\\nAfamitresgene autoleucela\\nAdaptimmune\\nMAGE-A4-targeted autologous, engineered T cell therapy\\nSynovial sarcoma\\n2024\\naBreakthrough designated drug. Biologic name\\nSponsor\\nProperties\\nIndication\\nTiming\\nZolbetuximab\\nAstellas\\nClaudin 18.2-targeted mAb\\nGastric cancer\\nJanuary\\nLifileucel\\nIovance\\nTumour-infiltrating lymphocyte therapy\\nMelanoma\\nFebruary\\nResmetiroma\\nMadrigal/Synta\\nThyroid hormone receptor β agonist\\nNASH\\nMarch\\nSotatercepta\\nMerck & Co./Acceleron\\nFusion protein ligand trap for TGF-β superfamily\\nPAH\\nMarch\\nmRNA-1345a\\nModerna\\nmRNA-based vaccine\\nRSV prevention\\nApril\\nDonanemaba\\nEli Lilly\\nAmyloid-β-targeted mAb\\nAlzheimer disease\\nQ1\\nEB-101a\\nAbeona\\nGene therapy with COL7A2 transgene\\nRDEB\\nMay\\nPatritumab deruxtecana\\nMerck & Co.\\nHER3-targeted ADC\\nNSCLC\\nJune\\n Table 3 | Selected rejected drugs of 2023\\nDrug\\nSponsor\\nProperties\\nIndication\\nDonanemab\\nEli Lilly\\nAmyloid-β-targeted mAb\\nAlzheimer disease\\nOmecamtiv mecarbil\\nCytokinetics\\nMyosin activator\\nChronic heart failure\\nInbakicept\\nImmunityBio\\nIL-15 agonist fusion protein\\nBladder cancer\\nConcizumab\\nNovo Nordisk\\nTFPI-targeted mAb\\nHaemophilia A and B\\nObeticholic acid (Ocaliva)a\\nAlfasigma\\nFarnesoid X receptor agonist\\nNASH\\nZuranolone (Zurzuvae)b\\nSage\\nGABAA receptor PAM\\nMDD\\nAvasopasem manganese\\nGalera\\nSuperoxide dismutase mimetic\\nMucositis\\nLebrikizumab\\nEli Lilly\\nIL-13-targeted mAb\\nAtopic dermatitis\\nGefapixant\\nMerck & Co.\\nP2X3 receptor antagonist\\nChronic cough\\naApproved in 2016 for primary biliary cholangitis. Theracosbio\\nSGLT2 inhibitor\\nGlycaemic control in type 2 diabetes mellitus\\nPirtobrutinib (Jaypirca)\\nLoxo/Eli Lilly\\nBTK inhibitor\\nMantle cell lymphoma\\nElacestrant (Orserdu)\\nStemline\\nER antagonist\\nER-positive, HER2-negative, ESR1-mutant breast cancer\\nDaprodustat (Jesduvroq)\\nGSK\\nHIF-PH inhibitor\\nAnaemia caused by CKD for adults on dialysis\\nVelmanase alfa (Lamzede)a\\nChiesi\\nRecombinant α-mannosidase\\nNon-CNS manifestations of α-mannosidosis\\nSparsentan (Filspari)\\nTravere\\nEndothelin and angiotensin II receptor antagonist\\nProteinuria in primary IgA nephropathy\\nOmaveloxolone (Skyclarys)\\nReata/Biogen\\nMechanism unknown, NRF2 activator\\nFriedrich’s ataxia\\nZavegepant (Zavzpret)\\nPfizer\\nCGRP receptor antagonist\\nMigraine\\nTrofinetide (Daybue)\\n CD3 T-cell engager\\nMultiple myeloma\\nPalovarotene (Sohonos)\\nIpsen\\nRetinoic acid receptor agonist\\nFibrodysplasia ossificans progressiva\\nPozelimab (Veopoz)a\\nRegeneron\\nC5-targeted mAb\\nCHAPLE disease\\nMotixafortide (Aphexda)\\nBiolinerx\\nCXCR4 inhibitor\\nHematopoietic stem cell mobilization for autologous transplantation in multiple myeloma\\nMomelotinib (Ojjaara)\\nGSK\\nJAK1/2, ALK2 inhibitor\\nMyelofibrosis in adults with anaemia\\nGepirone (Exxua)\\nFabre-Kramer\\n5HT1A receptor agonist\\nMajor depressive disorder\\nCipaglucosidase alfa (Pombiliti)a\\nAmicus\\nRecombinant α-glucosidase\\nPompe disease\\nNedosiran (Rivfloza)\\n'}]"
      ]
     },
     "execution_count": 38,
     "metadata": {},
     "output_type": "execute_result"
    }
   ],
   "source": [
    "web_search_tool.invoke(\"fda approval rate\")"
   ]
  },
  {
   "cell_type": "markdown",
   "metadata": {},
   "source": [
    "### LangGraph Control Flow Integration"
   ]
  },
  {
   "cell_type": "code",
   "execution_count": 39,
   "metadata": {},
   "outputs": [],
   "source": [
    "from typing_extensions import TypedDict\n",
    "from typing import List\n",
    "\n",
    "### State\n",
    "\n",
    "\n",
    "class GraphState(TypedDict):\n",
    "    \"\"\"\n",
    "    Represents the state of our graph.\n",
    "\n",
    "    Attributes:\n",
    "        question: question\n",
    "        generation: LLM generation\n",
    "        web_search: whether to add search\n",
    "        documents: list of documents\n",
    "    \"\"\"\n",
    "\n",
    "    question: str\n",
    "    generation: str\n",
    "    web_search: str\n",
    "    documents: List[str]\n",
    "\n",
    "\n",
    "from langchain.schema import Document\n",
    "\n",
    "### Nodes\n",
    "\n",
    "\n",
    "def retrieve(state):\n",
    "    \"\"\"\n",
    "    Retrieve documents from vectorstore\n",
    "\n",
    "    Args:\n",
    "        state (dict): The current graph state\n",
    "\n",
    "    Returns:\n",
    "        state (dict): New key added to state, documents, that contains retrieved documents\n",
    "    \"\"\"\n",
    "    print(\"---RETRIEVE---\")\n",
    "    question = state[\"question\"]\n",
    "\n",
    "    # Retrieval\n",
    "    documents = retriever.invoke(question)\n",
    "    return {\"documents\": documents, \"question\": question}\n",
    "\n",
    "\n",
    "def generate(state):\n",
    "    \"\"\"\n",
    "    Generate answer using RAG on retrieved documents\n",
    "\n",
    "    Args:\n",
    "        state (dict): The current graph state\n",
    "\n",
    "    Returns:\n",
    "        state (dict): New key added to state, generation, that contains LLM generation\n",
    "    \"\"\"\n",
    "    print(\"---GENERATE---\")\n",
    "    question = state[\"question\"]\n",
    "    documents = state[\"documents\"]\n",
    "\n",
    "    # RAG generation\n",
    "    generation = rag_chain.invoke({\"context\": documents, \"question\": question})\n",
    "    return {\"documents\": documents, \"question\": question, \"generation\": generation}\n",
    "\n",
    "\n",
    "def grade_documents(state):\n",
    "    \"\"\"\n",
    "    Determines whether the retrieved documents are relevant to the question\n",
    "    If any document is not relevant, we will set a flag to run web search\n",
    "\n",
    "    Args:\n",
    "        state (dict): The current graph state\n",
    "\n",
    "    Returns:\n",
    "        state (dict): Filtered out irrelevant documents and updated web_search state\n",
    "    \"\"\"\n",
    "\n",
    "    print(\"---CHECK DOCUMENT RELEVANCE TO QUESTION---\")\n",
    "    question = state[\"question\"]\n",
    "    documents = state[\"documents\"]\n",
    "\n",
    "    # Score each doc\n",
    "    filtered_docs = []\n",
    "    web_search = \"No\"\n",
    "    for d in documents:\n",
    "        score = retrieval_grader.invoke(\n",
    "            {\"question\": question, \"document\": d.page_content}\n",
    "        )\n",
    "        grade = score[\"score\"]\n",
    "        # Document relevant\n",
    "        if grade.lower() == \"yes\":\n",
    "            print(\"---GRADE: DOCUMENT RELEVANT---\")\n",
    "            filtered_docs.append(d)\n",
    "        # Document not relevant\n",
    "        else:\n",
    "            print(\"---GRADE: DOCUMENT NOT RELEVANT---\")\n",
    "            # We do not include the document in filtered_docs\n",
    "            # We set a flag to indicate that we want to run web search\n",
    "            web_search = \"Yes\"\n",
    "            continue\n",
    "    return {\"documents\": filtered_docs, \"question\": question, \"web_search\": web_search}\n",
    "\n",
    "\n",
    "def web_search(state):\n",
    "    \"\"\"\n",
    "    Web search based based on the question\n",
    "\n",
    "    Args:\n",
    "        state (dict): The current graph state\n",
    "\n",
    "    Returns:\n",
    "        state (dict): Appended web results to documents\n",
    "    \"\"\"\n",
    "\n",
    "    print(\"---WEB SEARCH---\")\n",
    "    question = state[\"question\"]\n",
    "    documents = state[\"documents\"]\n",
    "\n",
    "    # Web search\n",
    "    docs = web_search_tool.invoke({\"query\": question})\n",
    "    web_results = \"\\n\".join([d[\"content\"] for d in docs])\n",
    "    web_results = Document(page_content=web_results)\n",
    "    if documents is not None:\n",
    "        documents.append(web_results)\n",
    "    else:\n",
    "        documents = [web_results]\n",
    "    return {\"documents\": documents, \"question\": question}\n",
    "\n",
    "\n",
    "### Conditional edge\n",
    "\n",
    "\n",
    "def route_question(state):\n",
    "    \"\"\"\n",
    "    Route question to web search or RAG.\n",
    "\n",
    "    Args:\n",
    "        state (dict): The current graph state\n",
    "\n",
    "    Returns:\n",
    "        str: Next node to call\n",
    "    \"\"\"\n",
    "\n",
    "    print(\"---ROUTE QUESTION---\")\n",
    "    question = state[\"question\"]\n",
    "    print(question)\n",
    "    source = question_router.invoke({\"question\": question})\n",
    "    print(source)\n",
    "    print(source[\"datasource\"])\n",
    "    if source[\"datasource\"] == \"web_search\":\n",
    "        print(\"---ROUTE QUESTION TO WEB SEARCH---\")\n",
    "        return \"websearch\"\n",
    "    elif source[\"datasource\"] == \"vectorstore\":\n",
    "        print(\"---ROUTE QUESTION TO RAG---\")\n",
    "        return \"vectorstore\"\n",
    "\n",
    "\n",
    "def decide_to_generate(state):\n",
    "    \"\"\"\n",
    "    Determines whether to generate an answer, or add web search\n",
    "\n",
    "    Args:\n",
    "        state (dict): The current graph state\n",
    "\n",
    "    Returns:\n",
    "        str: Binary decision for next node to call\n",
    "    \"\"\"\n",
    "\n",
    "    print(\"---ASSESS GRADED DOCUMENTS---\")\n",
    "    question = state[\"question\"]\n",
    "    web_search = state[\"web_search\"]\n",
    "    filtered_documents = state[\"documents\"]\n",
    "\n",
    "    if web_search == \"Yes\":\n",
    "        # All documents have been filtered check_relevance\n",
    "        # We will re-generate a new query\n",
    "        print(\n",
    "            \"---DECISION: ALL DOCUMENTS ARE NOT RELEVANT TO QUESTION, INCLUDE WEB SEARCH---\"\n",
    "        )\n",
    "        return \"websearch\"\n",
    "    else:\n",
    "        # We have relevant documents, so generate answer\n",
    "        print(\"---DECISION: GENERATE---\")\n",
    "        return \"generate\"\n",
    "\n",
    "\n",
    "### Conditional edge\n",
    "\n",
    "\n",
    "def grade_generation_v_documents_and_question(state):\n",
    "    \"\"\"\n",
    "    Determines whether the generation is grounded in the document and answers question.\n",
    "\n",
    "    Args:\n",
    "        state (dict): The current graph state\n",
    "\n",
    "    Returns:\n",
    "        str: Decision for next node to call\n",
    "    \"\"\"\n",
    "\n",
    "    print(\"---CHECK HALLUCINATIONS---\")\n",
    "    question = state[\"question\"]\n",
    "    documents = state[\"documents\"]\n",
    "    generation = state[\"generation\"]\n",
    "\n",
    "    score = hallucination_grader.invoke(\n",
    "        {\"documents\": documents, \"generation\": generation}\n",
    "    )\n",
    "    grade = score[\"score\"]\n",
    "\n",
    "    # Check hallucination\n",
    "    if grade == \"yes\":\n",
    "        print(\"---DECISION: GENERATION IS GROUNDED IN DOCUMENTS---\")\n",
    "        # Check question-answering\n",
    "        print(\"---GRADE GENERATION vs QUESTION---\")\n",
    "        score = answer_grader.invoke({\"question\": question, \"generation\": generation})\n",
    "        grade = score[\"score\"]\n",
    "        if grade == \"yes\":\n",
    "            print(\"---DECISION: GENERATION ADDRESSES QUESTION---\")\n",
    "            return \"useful\"\n",
    "        else:\n",
    "            print(\"---DECISION: GENERATION DOES NOT ADDRESS QUESTION---\")\n",
    "            return \"not useful\"\n",
    "    else:\n",
    "        pprint(\"---DECISION: GENERATION IS NOT GROUNDED IN DOCUMENTS, RE-TRY---\")\n",
    "        return \"not supported\"\n",
    "\n",
    "\n",
    "from langgraph.graph import END, StateGraph\n",
    "\n",
    "workflow = StateGraph(GraphState)\n",
    "\n",
    "# Define the nodes\n",
    "workflow.add_node(\"websearch\", web_search)  # web search\n",
    "workflow.add_node(\"retrieve\", retrieve)  # retrieve\n",
    "workflow.add_node(\"grade_documents\", grade_documents)  # grade documents\n",
    "workflow.add_node(\"generate\", generate)  # generatae"
   ]
  },
  {
   "cell_type": "code",
   "execution_count": 40,
   "metadata": {},
   "outputs": [],
   "source": [
    "# Build graph\n",
    "workflow.set_conditional_entry_point(\n",
    "    route_question,\n",
    "    {\n",
    "        \"websearch\": \"websearch\",\n",
    "        \"vectorstore\": \"retrieve\",\n",
    "    },\n",
    ")\n",
    "\n",
    "workflow.add_edge(\"retrieve\", \"grade_documents\")\n",
    "workflow.add_conditional_edges(\n",
    "    \"grade_documents\",\n",
    "    decide_to_generate,\n",
    "    {\n",
    "        \"websearch\": \"websearch\",\n",
    "        \"generate\": \"generate\",\n",
    "    },\n",
    ")\n",
    "workflow.add_edge(\"websearch\", \"generate\")\n",
    "workflow.add_conditional_edges(\n",
    "    \"generate\",\n",
    "    grade_generation_v_documents_and_question,\n",
    "    {\n",
    "        \"not supported\": \"generate\",\n",
    "        \"useful\": END,\n",
    "        \"not useful\": \"websearch\",\n",
    "    },\n",
    ")"
   ]
  },
  {
   "cell_type": "code",
   "execution_count": 41,
   "metadata": {},
   "outputs": [],
   "source": [
    "# Compile\n",
    "app = workflow.compile()"
   ]
  },
  {
   "cell_type": "code",
   "execution_count": 42,
   "metadata": {},
   "outputs": [
    {
     "name": "stdout",
     "output_type": "stream",
     "text": [
      "---ROUTE QUESTION---\n",
      "What are the types of agent memory?\n",
      "{'datasource': 'vectorstore'}\n",
      "vectorstore\n",
      "---ROUTE QUESTION TO RAG---\n",
      "---RETRIEVE---\n",
      "'Finished running: retrieve:'\n",
      "---CHECK DOCUMENT RELEVANCE TO QUESTION---\n",
      "---GRADE: DOCUMENT RELEVANT---\n",
      "---GRADE: DOCUMENT RELEVANT---\n",
      "---GRADE: DOCUMENT RELEVANT---\n",
      "---GRADE: DOCUMENT RELEVANT---\n",
      "---ASSESS GRADED DOCUMENTS---\n",
      "---DECISION: GENERATE---\n",
      "'Finished running: grade_documents:'\n",
      "---GENERATE---\n",
      "---CHECK HALLUCINATIONS---\n",
      "---DECISION: GENERATION IS GROUNDED IN DOCUMENTS---\n",
      "---GRADE GENERATION vs QUESTION---\n",
      "---DECISION: GENERATION ADDRESSES QUESTION---\n",
      "'Finished running: generate:'\n",
      "('The types of agent memory mentioned in the context are:\\n'\n",
      " '\\n'\n",
      " '* Sensory Memory\\n'\n",
      " '* Iconic Memory (visual)\\n'\n",
      " '* Echoic Memory (auditory)\\n'\n",
      " '* Haptic Memory (touch)\\n'\n",
      " '\\n'\n",
      " 'These types of memory are used to acquire, store, retain, and later retrieve '\n",
      " 'information.')\n"
     ]
    }
   ],
   "source": [
    "# Test\n",
    "from pprint import pprint\n",
    "\n",
    "inputs = {\"question\": \"What are the types of agent memory?\"}\n",
    "for output in app.stream(inputs):\n",
    "    for key, value in output.items():\n",
    "        pprint(f\"Finished running: {key}:\")\n",
    "pprint(value[\"generation\"])"
   ]
  },
  {
   "cell_type": "code",
   "execution_count": 43,
   "metadata": {},
   "outputs": [
    {
     "name": "stdout",
     "output_type": "stream",
     "text": [
      "---ROUTE QUESTION---\n",
      "Who are the Bears expected to draft first in the NFL draft?\n",
      "{'datasource': 'web_search'}\n",
      "web_search\n",
      "---ROUTE QUESTION TO WEB SEARCH---\n",
      "---WEB SEARCH---\n",
      "'Finished running: websearch:'\n",
      "---GENERATE---\n",
      "---CHECK HALLUCINATIONS---\n",
      "---DECISION: GENERATION IS GROUNDED IN DOCUMENTS---\n",
      "---GRADE GENERATION vs QUESTION---\n",
      "---DECISION: GENERATION ADDRESSES QUESTION---\n",
      "'Finished running: generate:'\n",
      "('According to the context, the Chicago Bears are expected to draft Rome '\n",
      " 'Odunze, a wide receiver from Washington, with their No. 9 overall pick in '\n",
      " 'the 2024 NFL Draft.')\n"
     ]
    }
   ],
   "source": [
    "# Compile\n",
    "app = workflow.compile()\n",
    "\n",
    "# Test\n",
    "from pprint import pprint\n",
    "\n",
    "inputs = {\"question\": \"Who are the Bears expected to draft first in the NFL draft?\"}\n",
    "for output in app.stream(inputs):\n",
    "    for key, value in output.items():\n",
    "        pprint(f\"Finished running: {key}:\")\n",
    "pprint(value[\"generation\"])"
   ]
  }
 ],
 "metadata": {
  "kernelspec": {
   "display_name": "Python 3",
   "language": "python",
   "name": "python3"
  },
  "language_info": {
   "codemirror_mode": {
    "name": "ipython",
    "version": 3
   },
   "file_extension": ".py",
   "mimetype": "text/x-python",
   "name": "python",
   "nbconvert_exporter": "python",
   "pygments_lexer": "ipython3",
   "version": "3.10.14"
  }
 },
 "nbformat": 4,
 "nbformat_minor": 2
}
