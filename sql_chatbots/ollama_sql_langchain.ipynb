{
 "cells": [
  {
   "cell_type": "markdown",
   "metadata": {},
   "source": [
    "# env setup"
   ]
  },
  {
   "cell_type": "code",
   "execution_count": 109,
   "metadata": {},
   "outputs": [],
   "source": [
    "import os\n",
    "LANGCHAIN_API_KEY = os.getenv(key=\"LANGCHAIN_API_KEY\")\n",
    "LANGCHAIN_ENDPOINT = os.getenv(key=\"LANGCHAIN_ENDPOINT\")\n",
    "LANGCHAIN_TRACING_V2 = os.getenv(key=\"LANGCHAIN_TRACING_V2\")\n",
    "from dotenv import load_dotenv\n",
    "load_dotenv()\n",
    "groq_api_key = os.environ['GROQ_API_KEY']"
   ]
  },
  {
   "cell_type": "markdown",
   "metadata": {},
   "source": [
    "# Imports"
   ]
  },
  {
   "cell_type": "code",
   "execution_count": 110,
   "metadata": {},
   "outputs": [],
   "source": [
    "from langchain_community.chat_models import ChatOllama\n",
    "from langchain_community.utilities import SQLDatabase\n",
    "from langchain_core.prompts import ChatPromptTemplate, MessagesPlaceholder\n",
    "from langchain.memory import ConversationBufferMemory\n",
    "from langchain_core.output_parsers import StrOutputParser\n",
    "from langchain_core.runnables import RunnablePassthrough, RunnableLambda\n",
    "from langchain_core.pydantic_v1 import BaseModel"
   ]
  },
  {
   "cell_type": "markdown",
   "metadata": {},
   "source": [
    "# define llms"
   ]
  },
  {
   "cell_type": "code",
   "execution_count": 111,
   "metadata": {},
   "outputs": [],
   "source": [
    "phi_llm = ChatOllama(model='phi',temperature=0.1,timeout=300)\n",
    "gemma_llm = ChatOllama(model='gemma:2b',temperature=0.1,timeout=300)\n",
    "llm = phi_llm"
   ]
  },
  {
   "cell_type": "markdown",
   "metadata": {},
   "source": [
    "# DB: Connect to a SQLite DB."
   ]
  },
  {
   "cell_type": "code",
   "execution_count": 112,
   "metadata": {},
   "outputs": [],
   "source": [
    "db = SQLDatabase.from_uri(\"sqlite:///nba_roster.db\", sample_rows_in_table_info= 0)"
   ]
  },
  {
   "cell_type": "code",
   "execution_count": 113,
   "metadata": {},
   "outputs": [
    {
     "data": {
      "text/plain": [
       "\"[('Golden State Warriors',)]\""
      ]
     },
     "execution_count": 113,
     "metadata": {},
     "output_type": "execute_result"
    }
   ],
   "source": [
    "# query the db\n",
    "query = \"SELECT Team FROM nba_roster WHERE NAME = 'Klay Thompson'\"\n",
    "db.run(query)"
   ]
  },
  {
   "cell_type": "code",
   "execution_count": 114,
   "metadata": {},
   "outputs": [
    {
     "data": {
      "text/plain": [
       "\"[('Jordan Walsh',), ('Noah Clowney',), ('Dariq Whitehead',), ('Amari Bailey',), ('James Nnaji',), ('Nick Smith Jr.',), ('Julian Phillips',), ('Emoni Bates',), ('Dereck Lively II',), ('Jalen Duren',), ('Cam Whitmore',), ('Chris Livingston',), ('Jaylen Martin',), ('Cason Wallace',), ('Anthony Black',), ('Scoot Henderson',), ('Sidy Cissoko',), ('Victor Wembanyama',), ('Gradey Dick',), ('Keyonte George',), ('Taylor Hendricks',), ('Brice Sensabaugh',), ('Gradey Dick',), ('Bilal Coulibaly',)]\""
      ]
     },
     "execution_count": 114,
     "metadata": {},
     "output_type": "execute_result"
    }
   ],
   "source": [
    "query = \"SELECT NAME FROM nba_roster WHERE AGE = 19\"\n",
    "db.run(query)"
   ]
  },
  {
   "cell_type": "code",
   "execution_count": 115,
   "metadata": {},
   "outputs": [],
   "source": [
    "def get_schema(_):\n",
    "    return db.get_table_info()\n",
    "\n",
    "def run_query(query):\n",
    "    return db.run(query)"
   ]
  },
  {
   "cell_type": "markdown",
   "metadata": {},
   "source": [
    "# prompts and templates"
   ]
  },
  {
   "cell_type": "code",
   "execution_count": 132,
   "metadata": {},
   "outputs": [],
   "source": [
    "template = \"\"\"Based on the table schema below, return a SQL query that would answer the user's question:\n",
    "{schema}\n",
    "\n",
    "Question: {question}\n",
    "SQL Query: \"\"\"  # noqa: E501\n",
    "\n",
    "# template = \"\"\"Based on the table schema below, return only a SQL query that would answer the user's question. No pre-amble.:\n",
    "# {schema}\n",
    "\n",
    "# Question: {question}\n",
    "# Answer:\"\"\"  # noqa: E501\n",
    "\n",
    "\n",
    "prompt = ChatPromptTemplate.from_messages(\n",
    "    [\n",
    "        (\"system\", \"Given an input question, convert it to a SQL query. No pre-amble.\"),\n",
    "        MessagesPlaceholder(variable_name=\"history\"),\n",
    "        (\"human\", template),\n",
    "    ]\n",
    ")"
   ]
  },
  {
   "cell_type": "code",
   "execution_count": 133,
   "metadata": {},
   "outputs": [
    {
     "name": "stdout",
     "output_type": "stream",
     "text": [
      "input_variables=['history', 'question', 'schema'] input_types={'history': typing.List[typing.Union[langchain_core.messages.ai.AIMessage, langchain_core.messages.human.HumanMessage, langchain_core.messages.chat.ChatMessage, langchain_core.messages.system.SystemMessage, langchain_core.messages.function.FunctionMessage, langchain_core.messages.tool.ToolMessage]]} messages=[SystemMessagePromptTemplate(prompt=PromptTemplate(input_variables=[], template='Given an input question, convert it to a SQL query. No pre-amble.')), MessagesPlaceholder(variable_name='history'), HumanMessagePromptTemplate(prompt=PromptTemplate(input_variables=['question', 'schema'], template=\"Based on the table schema below, return a SQL query that would answer the user's question:\\n{schema}\\n\\nQuestion: {question}\\nSQL Query: \"))]\n"
     ]
    }
   ],
   "source": [
    "print(prompt)"
   ]
  },
  {
   "cell_type": "code",
   "execution_count": 134,
   "metadata": {},
   "outputs": [],
   "source": [
    "memory = ConversationBufferMemory(return_messages=True)"
   ]
  },
  {
   "cell_type": "markdown",
   "metadata": {},
   "source": [
    "# Chains"
   ]
  },
  {
   "cell_type": "code",
   "execution_count": 138,
   "metadata": {},
   "outputs": [],
   "source": [
    "# Chain to query with memory\n",
    "\n",
    "sql_chain = (\n",
    "    RunnablePassthrough.assign(\n",
    "        schema=get_schema,\n",
    "        history=RunnableLambda(lambda x: memory.load_memory_variables(x)[\"history\"]),\n",
    "    )\n",
    "    | prompt\n",
    "    # | llm.bind(stop=[\"\\nUser:\"])\n",
    "    # | gemma_llm.bind(stop=[\"\\n\"])\n",
    "    # | llm.bind(stop=[\"\\nUser:\", \"\\nRules:\", \"\\nAssistant\"])\n",
    "    # | llm\n",
    "    | gemma_llm\n",
    "    | StrOutputParser()\n",
    ")"
   ]
  },
  {
   "cell_type": "code",
   "execution_count": 137,
   "metadata": {},
   "outputs": [],
   "source": [
    "def format_query(query):\n",
    "    return query.strip().replace(\"```sql\", \"\").replace(\"```\", \"\")"
   ]
  },
  {
   "cell_type": "code",
   "execution_count": 158,
   "metadata": {},
   "outputs": [],
   "source": [
    "sql_chain_format = (\n",
    "    RunnablePassthrough.assign(\n",
    "        schema=get_schema,\n",
    "        history=RunnableLambda(lambda x: memory.load_memory_variables(x)[\"history\"]),\n",
    "    )\n",
    "    | prompt\n",
    "    # | llm.bind(stop=[\"\\nUser:\"])\n",
    "    # | gemma_llm.bind(stop=[\"\\n\"])\n",
    "    # | llm.bind(stop=[\"\\nUser:\", \"\\nRules:\", \"\\nAssistant\"])\n",
    "    # | llm\n",
    "    | gemma_llm\n",
    "    | StrOutputParser()\n",
    "    | RunnableLambda(format_query)\n",
    ")"
   ]
  },
  {
   "cell_type": "code",
   "execution_count": 159,
   "metadata": {},
   "outputs": [
    {
     "data": {
      "text/plain": [
       "\"\\nSELECT Team\\nFROM nba_roster\\nWHERE NAME = 'Klay Thompson';\\n\""
      ]
     },
     "execution_count": 159,
     "metadata": {},
     "output_type": "execute_result"
    }
   ],
   "source": [
    "sql_chain_format.invoke({\"question\": \"What team is Klay Thompson on?\"})"
   ]
  },
  {
   "cell_type": "code",
   "execution_count": 144,
   "metadata": {},
   "outputs": [],
   "source": [
    "formatted_chain = sql_chain | RunnableLambda(format_query)"
   ]
  },
  {
   "cell_type": "code",
   "execution_count": 145,
   "metadata": {},
   "outputs": [
    {
     "data": {
      "text/plain": [
       "\"\\nSELECT Team\\nFROM nba_roster\\nWHERE NAME = 'Klay Thompson';\\n\""
      ]
     },
     "execution_count": 145,
     "metadata": {},
     "output_type": "execute_result"
    }
   ],
   "source": [
    "formatted_chain.invoke({\"question\": \"What team is Klay Thompson on?\"})"
   ]
  },
  {
   "cell_type": "code",
   "execution_count": 136,
   "metadata": {},
   "outputs": [
    {
     "data": {
      "text/plain": [
       "\"```sql\\nSELECT Team\\nFROM nba_roster\\nWHERE NAME = 'Klay Thompson';\\n```\""
      ]
     },
     "execution_count": 136,
     "metadata": {},
     "output_type": "execute_result"
    }
   ],
   "source": [
    "sql_chain.invoke({\"question\": \"What team is Klay Thompson on?\"})"
   ]
  },
  {
   "cell_type": "code",
   "execution_count": 89,
   "metadata": {},
   "outputs": [],
   "source": [
    "def save(input_output):\n",
    "    output = {\"output\": input_output.pop(\"output\")}\n",
    "    memory.save_context(input_output, output)\n",
    "    return output[\"output\"]"
   ]
  },
  {
   "cell_type": "code",
   "execution_count": 90,
   "metadata": {},
   "outputs": [],
   "source": [
    "sql_response_memory = RunnablePassthrough.assign(output=sql_chain) | save"
   ]
  },
  {
   "cell_type": "code",
   "execution_count": 91,
   "metadata": {},
   "outputs": [],
   "source": [
    "# Chain to answer\n",
    "template = \"\"\"Based on the table schema below, question, sql query, and sql response, write a natural language response:\n",
    "{schema}\n",
    "\n",
    "Question: {question}\n",
    "SQL Query: {query}\n",
    "SQL Response: {response}\"\"\"  # noqa: E501\n",
    "\n",
    "prompt_response = ChatPromptTemplate.from_messages(\n",
    "    [\n",
    "        (\n",
    "            \"system\",\n",
    "            \"Given an input question and SQL response, convert it to a natural \"\n",
    "            \"language answer. No pre-amble.\",\n",
    "        ),\n",
    "        (\"human\", template),\n",
    "    ]\n",
    ")"
   ]
  },
  {
   "cell_type": "code",
   "execution_count": 92,
   "metadata": {},
   "outputs": [
    {
     "data": {
      "text/plain": [
       "ChatPromptTemplate(input_variables=['query', 'question', 'response', 'schema'], messages=[SystemMessagePromptTemplate(prompt=PromptTemplate(input_variables=[], template='Given an input question and SQL response, convert it to a natural language answer. No pre-amble.')), HumanMessagePromptTemplate(prompt=PromptTemplate(input_variables=['query', 'question', 'response', 'schema'], template='Based on the table schema below, question, sql query, and sql response, write a natural language response:\\n{schema}\\n\\nQuestion: {question}\\nSQL Query: {query}\\nSQL Response: {response}'))])"
      ]
     },
     "execution_count": 92,
     "metadata": {},
     "output_type": "execute_result"
    }
   ],
   "source": [
    "prompt_response"
   ]
  },
  {
   "cell_type": "code",
   "execution_count": 93,
   "metadata": {},
   "outputs": [],
   "source": [
    "# Supply the input types to the prompt\n",
    "class InputType(BaseModel):\n",
    "    question: str"
   ]
  },
  {
   "cell_type": "code",
   "execution_count": 146,
   "metadata": {},
   "outputs": [],
   "source": [
    "chain = (\n",
    "    RunnablePassthrough.assign(query=formatted_chain).with_types(\n",
    "        input_type=InputType\n",
    "    )\n",
    "    | RunnablePassthrough.assign(\n",
    "        schema=get_schema,\n",
    "        response=lambda x: db.run(x[\"query\"]),\n",
    "    )\n",
    "    | prompt_response\n",
    "    | gemma_llm\n",
    ")"
   ]
  },
  {
   "cell_type": "code",
   "execution_count": 122,
   "metadata": {},
   "outputs": [],
   "source": [
    "def format_query(query):\n",
    "    return query.strip().replace(\"```sql\", \"\").replace(\"```\", \"\")\n"
   ]
  },
  {
   "cell_type": "code",
   "execution_count": 123,
   "metadata": {},
   "outputs": [
    {
     "name": "stdout",
     "output_type": "stream",
     "text": [
      "\n",
      "SELECT * FROM table;\n",
      "\n"
     ]
    }
   ],
   "source": [
    "formatted_query = format_query(\"```sql\\nSELECT * FROM table;\\n```\")\n",
    "print(formatted_query)\n"
   ]
  },
  {
   "cell_type": "code",
   "execution_count": 127,
   "metadata": {},
   "outputs": [],
   "source": [
    "chain = (\n",
    "    # RunnablePassthrough.assign({\"query\":sql_response_memory | format_query}).with_types(\n",
    "    #     input_type=InputType\n",
    "    # )\n",
    "    {\"query\":sql_response_memory | format_query, \"question\": RunnablePassthrough()}\n",
    "    | RunnablePassthrough.assign(\n",
    "        schema=get_schema,\n",
    "        response=lambda x: db.run(x[\"query\"]),\n",
    "    )\n",
    "    | prompt_response\n",
    "    | gemma_llm\n",
    ")"
   ]
  },
  {
   "cell_type": "code",
   "execution_count": 100,
   "metadata": {},
   "outputs": [],
   "source": [
    "# chain = (\n",
    "#     RunnablePassthrough.assign(\n",
    "#         query=lambda x: x.strip().replace(\"```sql\", \"\").replace(\"```\", \"\")\n",
    "#     ).with_types(input_type=InputType)\n",
    "#     | RunnablePassthrough.assign(\n",
    "#         schema=get_schema,\n",
    "#         response=lambda x: db.run(x[\"query\"]),\n",
    "#     )\n",
    "#     | prompt_response\n",
    "#     | gemma_llm\n",
    "# )\n"
   ]
  },
  {
   "cell_type": "code",
   "execution_count": 151,
   "metadata": {},
   "outputs": [],
   "source": [
    "sql_response_memory_formatted = RunnablePassthrough.assign(output=formatted_chain) | save"
   ]
  },
  {
   "cell_type": "code",
   "execution_count": 152,
   "metadata": {},
   "outputs": [],
   "source": [
    "chain_format = (\n",
    "    RunnablePassthrough.assign(query=sql_response_memory_formatted).with_types(\n",
    "        input_type=InputType\n",
    "    )\n",
    "    | RunnablePassthrough.assign(\n",
    "        schema=get_schema,\n",
    "        response=lambda x: db.run(x[\"query\"]),\n",
    "    )\n",
    "    | prompt_response\n",
    "    | gemma_llm\n",
    ")"
   ]
  },
  {
   "cell_type": "code",
   "execution_count": 153,
   "metadata": {},
   "outputs": [
    {
     "data": {
      "text/plain": [
       "AIMessage(content='Based on the provided table schema and SQL query, the players who are 19 years old are:\\n\\n- Jordan Walsh\\n- Noah Clowney\\n- Dariq Whitehead\\n- Amari Bailey\\n- James Nnaji\\n- Nick Smith Jr.\\n- Julian Phillips\\n- Emoni Bates\\n- Dereck Lively II\\n- Jalen Duren\\n- Cam Whitmore\\n- Chris Livingston\\n- Jaylen Martin\\n- Cason Wallace\\n- Anthony Black\\n- Scoot Henderson\\n- Sidy Cissoko\\n- Victor Wembanyama\\n- Gradey Dick\\n- Keyonte George\\n- Taylor Hendricks\\n- Brice Sensabaugh', response_metadata={'model': 'gemma:2b', 'created_at': '2024-04-24T17:49:17.6167819Z', 'message': {'role': 'assistant', 'content': ''}, 'done': True, 'total_duration': 8883895300, 'load_duration': 4004800, 'prompt_eval_count': 319, 'prompt_eval_duration': 4459606000, 'eval_count': 136, 'eval_duration': 4342150000}, id='run-7a74b21e-44c6-48bf-a54e-9009243a17d6-0')"
      ]
     },
     "execution_count": 153,
     "metadata": {},
     "output_type": "execute_result"
    }
   ],
   "source": [
    "chain_format.invoke({\"question\": \"give me name of all players who's age is 19 years?\"})"
   ]
  },
  {
   "cell_type": "code",
   "execution_count": 147,
   "metadata": {},
   "outputs": [
    {
     "data": {
      "text/plain": [
       "AIMessage(content='Based on the provided table schema and SQL query, Klay Thompson is currently playing for the Golden State Warriors.', response_metadata={'model': 'gemma:2b', 'created_at': '2024-04-24T17:43:36.3455192Z', 'message': {'role': 'assistant', 'content': ''}, 'done': True, 'total_duration': 3735907100, 'load_duration': 3458700, 'prompt_eval_count': 168, 'prompt_eval_duration': 3097719000, 'eval_count': 23, 'eval_duration': 570565000}, id='run-f9e0ac77-5c9d-4233-81ab-3070765863bb-0')"
      ]
     },
     "execution_count": 147,
     "metadata": {},
     "output_type": "execute_result"
    }
   ],
   "source": [
    "chain.invoke({\"question\": \"What team is Klay Thompson on?\"})"
   ]
  },
  {
   "cell_type": "code",
   "execution_count": 148,
   "metadata": {},
   "outputs": [
    {
     "data": {
      "text/plain": [
       "AIMessage(content='Based on the provided table schema and SQL response, there are 17 players on the Golden State Warriors team.', response_metadata={'model': 'gemma:2b', 'created_at': '2024-04-24T17:44:15.0543721Z', 'message': {'role': 'assistant', 'content': ''}, 'done': True, 'total_duration': 3642090300, 'load_duration': 2752300, 'prompt_eval_count': 169, 'prompt_eval_duration': 3028625000, 'eval_count': 24, 'eval_duration': 601283000}, id='run-6a11faa0-2a79-4f26-b34a-595fa64dee17-0')"
      ]
     },
     "execution_count": 148,
     "metadata": {},
     "output_type": "execute_result"
    }
   ],
   "source": [
    "chain.invoke({\"question\": \"Give me total number of players in Golden State Warriors Team?\"})"
   ]
  },
  {
   "cell_type": "code",
   "execution_count": 149,
   "metadata": {},
   "outputs": [
    {
     "data": {
      "text/plain": [
       "AIMessage(content='Based on the provided table schema and SQL response, there are 30 distinct teams in the NBA roster.', response_metadata={'model': 'gemma:2b', 'created_at': '2024-04-24T17:46:29.1650226Z', 'message': {'role': 'assistant', 'content': ''}, 'done': True, 'total_duration': 3730860700, 'load_duration': 3313100, 'prompt_eval_count': 169, 'prompt_eval_duration': 3085372000, 'eval_count': 23, 'eval_duration': 625059000}, id='run-a1f3f2d7-2e6b-4fc4-aa54-b995e39fced7-0')"
      ]
     },
     "execution_count": 149,
     "metadata": {},
     "output_type": "execute_result"
    }
   ],
   "source": [
    "chain.invoke({\"question\": \"How many total different teams are there in database?\"})"
   ]
  },
  {
   "cell_type": "code",
   "execution_count": 72,
   "metadata": {},
   "outputs": [
    {
     "data": {
      "text/plain": [
       "AIMessage(content='Based on the provided table schema and SQL response, the oldest player in the NBA roster is not specified. Therefore, I am unable to provide a natural language answer to this question.', response_metadata={'model': 'gemma:2b', 'created_at': '2024-04-24T10:37:55.4473969Z', 'message': {'role': 'assistant', 'content': ''}, 'done': True, 'total_duration': 3558546900, 'load_duration': 17776200, 'prompt_eval_count': 158, 'prompt_eval_duration': 2625240000, 'eval_count': 37, 'eval_duration': 905462000}, id='run-a4d3a68e-752b-48aa-90ff-344ed1d90d25-0')"
      ]
     },
     "execution_count": 72,
     "metadata": {},
     "output_type": "execute_result"
    }
   ],
   "source": [
    "chain.invoke({\"question\": \"who is oldest player in nba roaster?\"})"
   ]
  },
  {
   "cell_type": "code",
   "execution_count": 73,
   "metadata": {},
   "outputs": [
    {
     "data": {
      "text/plain": [
       "AIMessage(content='Based on the provided table schema and SQL response, the youngest player in the NBA roster is 18 years old.', response_metadata={'model': 'gemma:2b', 'created_at': '2024-04-24T10:40:18.6704592Z', 'message': {'role': 'assistant', 'content': ''}, 'done': True, 'total_duration': 3295206300, 'load_duration': 2795200, 'prompt_eval_count': 159, 'prompt_eval_duration': 2678057000, 'eval_count': 25, 'eval_duration': 594757000}, id='run-e36e9aa1-7377-4300-98cd-91d8141bb825-0')"
      ]
     },
     "execution_count": 73,
     "metadata": {},
     "output_type": "execute_result"
    }
   ],
   "source": [
    "chain.invoke({\"question\": \"who is youngest player in nba roaster?\"})"
   ]
  },
  {
   "cell_type": "code",
   "execution_count": 74,
   "metadata": {},
   "outputs": [
    {
     "data": {
      "text/plain": [
       "AIMessage(content='Based on the provided table schema and SQL response, the players who are 19 years old are:\\n\\n- Jordan Walsh\\n- Noah Clowney\\n- Dariq Whitehead\\n- Amari Bailey\\n- James Nnaji\\n- Nick Smith Jr.\\n- Julian Phillips\\n- Emoni Bates\\n- Dereck Lively II\\n- Jalen Duren\\n- Cam Whitmore\\n- Chris Livingston\\n- Jaylen Martin\\n- Cason Wallace\\n- Anthony Black\\n- Scoot Henderson\\n- Sidy Cissoko\\n- Victor Wembanyama\\n- Gradey Dick\\n- Keyonte George\\n- Taylor Hendricks\\n- Brice Sensabaugh\\n- Gradey Dick\\n- Bilal Coulibaly', response_metadata={'model': 'gemma:2b', 'created_at': '2024-04-24T10:42:43.090322Z', 'message': {'role': 'assistant', 'content': ''}, 'done': True, 'total_duration': 9137884400, 'load_duration': 3725500, 'prompt_eval_count': 315, 'prompt_eval_duration': 4424181000, 'eval_count': 148, 'eval_duration': 4659951000}, id='run-cfe27e6c-2467-466e-b5ac-d4a72d7d8322-0')"
      ]
     },
     "execution_count": 74,
     "metadata": {},
     "output_type": "execute_result"
    }
   ],
   "source": [
    "chain.invoke({\"question\": \"give me name of all players who's age is 19 years?\"})"
   ]
  },
  {
   "cell_type": "code",
   "execution_count": null,
   "metadata": {},
   "outputs": [],
   "source": []
  }
 ],
 "metadata": {
  "kernelspec": {
   "display_name": "Python 3",
   "language": "python",
   "name": "python3"
  },
  "language_info": {
   "codemirror_mode": {
    "name": "ipython",
    "version": 3
   },
   "file_extension": ".py",
   "mimetype": "text/x-python",
   "name": "python",
   "nbconvert_exporter": "python",
   "pygments_lexer": "ipython3",
   "version": "3.10.14"
  }
 },
 "nbformat": 4,
 "nbformat_minor": 2
}
